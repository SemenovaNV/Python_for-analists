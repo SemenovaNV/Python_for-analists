{
  "cells": [
    {
      "cell_type": "markdown",
      "metadata": {
        "id": "Etx_qXlvU7gV"
      },
      "source": [
        "## Task 2\n",
        "На складе лежат разные фрукты в разном количестве.\n",
        "Нужно написать функцию, которая на вход принимает любое количество названий фруктов и их количество, а возвращает общее количество фруктов на складе"
      ]
    },
    {
      "cell_type": "code",
      "execution_count": 1,
      "metadata": {
        "id": "TDLgXTekUoZQ"
      },
      "outputs": [],
      "source": [
        "def total_fruct(**kwargs):\n",
        "    return sum(kwargs.values())"
      ]
    },
    {
      "cell_type": "code",
      "execution_count": 2,
      "metadata": {
        "colab": {
          "base_uri": "https://localhost:8080/"
        },
        "id": "iHStjYLkW3ya",
        "outputId": "e86e017a-424c-4af4-dac7-890dcb8086e8"
      },
      "outputs": [
        {
          "data": {
            "text/plain": [
              "60"
            ]
          },
          "execution_count": 2,
          "metadata": {},
          "output_type": "execute_result"
        }
      ],
      "source": [
        "total_fruct(apples =10,bananas =20,pears=30)"
      ]
    },
    {
      "cell_type": "markdown",
      "metadata": {
        "id": "CoyVH7opXTeb"
      },
      "source": [
        "##Task 3\n",
        "Дан список с затратами на рекламу. Но в данных есть ошибки, некоторые затраты имеют отрицательную величину. Удалите такие значения из списка и посчитайте суммарные затраты\n",
        "[100, 125, -90, 345, 655, -1, 0, 200]\n",
        "Используйте list comprehensions"
      ]
    },
    {
      "cell_type": "code",
      "execution_count": 8,
      "metadata": {
        "colab": {
          "base_uri": "https://localhost:8080/"
        },
        "id": "AivbgEbuXdZU",
        "outputId": "d03b13c3-b921-406b-9fb8-eb294d2a6b3f"
      },
      "outputs": [
        {
          "name": "stdout",
          "output_type": "stream",
          "text": [
            "Суммарные затраты на рекламу, без отрицательных величин = 1425\n"
          ]
        }
      ],
      "source": [
        "costs = [100, 125, -90, 345, 655, -1, 0, 200] \n",
        "sum_positive_cost = sum([i for i in costs if i > 0])\n",
        "print(f'Суммарные затраты на рекламу, без отрицательных величин = {sum_positive_cost}')"
      ]
    },
    {
      "cell_type": "markdown",
      "metadata": {
        "id": "WgbOqGqqaQzu"
      },
      "source": [
        "##Task 4\n",
        "Даны два списка.\n",
        "\n",
        "Дата покупки\n",
        "\n",
        "['2021-09-14', '2021-12-15', '2021-09-08', '2021-12-05', '2021-10-09', '2021-09-30', '2021-12-22', '2021-11-29', '2021-12-24', '2021-11-26', '2021-10-27', '2021-12-18', '2021-11-09', '2021-11-23', '2021-09-27', '2021-10-02', '2021-12-27', '2021-09-20', '2021-12-13', '2021-11-01', '2021-11-09', '2021-12-06', '2021-12-08', '2021-10-09', '2021-10-31', '2021-09-30', '2021-11-09', '2021-12-13', '2021-10-26', '2021-12-09']\n",
        "\n",
        "Суммы покупок по датам\n",
        "\n",
        "[1270, 8413, 9028, 3703, 5739, 4095, 295, 4944, 5723, 3701, 4471, 651, 7037, 4274, 6275, 4988, 6930, 2971, 6592, 2004, 2822, 519, 3406, 2732, 5015, 2008, 316, 6333, 5700, 2887]"
      ]
    },
    {
      "cell_type": "markdown",
      "metadata": {
        "id": "-xp-bereagus"
      },
      "source": [
        "###4.1\n",
        "Найдите, какая выручка у компании в ноябре.\n",
        "Используйте list comprehensions"
      ]
    },
    {
      "cell_type": "code",
      "execution_count": 4,
      "metadata": {
        "id": "k-4xyYb2am9u"
      },
      "outputs": [],
      "source": [
        "dates = ['2021-09-14', '2021-12-15', '2021-09-08', '2021-12-05', '2021-10-09',\n",
        "         '2021-09-30', '2021-12-22', '2021-11-29', '2021-12-24', '2021-11-26', \n",
        "         '2021-10-27', '2021-12-18', '2021-11-09', '2021-11-23', '2021-09-27', \n",
        "         '2021-10-02', '2021-12-27', '2021-09-20', '2021-12-13', '2021-11-01', \n",
        "         '2021-11-09', '2021-12-06', '2021-12-08', '2021-10-09', '2021-10-31', \n",
        "         '2021-09-30', '2021-11-09', '2021-12-13', '2021-10-26', '2021-12-09']\n",
        "prices = [1270, 8413, 9028, 3703, 5739, 4095, 295, 4944, 5723, 3701, 4471, \n",
        "          651, 7037, 4274, 6275, 4988, 6930, 2971, 6592, 2004, 2822, 519, \n",
        "          3406, 2732, 5015, 2008, 316, 6333, 5700, 2887]"
      ]
    },
    {
      "cell_type": "code",
      "execution_count": 5,
      "metadata": {
        "id": "rcUdXq8TfRCD"
      },
      "outputs": [],
      "source": [
        "import datetime as dt"
      ]
    },
    {
      "cell_type": "code",
      "execution_count": 6,
      "metadata": {
        "colab": {
          "base_uri": "https://localhost:8080/"
        },
        "id": "fMz6ukcXdSUE",
        "outputId": "42006838-e873-4f7a-b57c-c69053f5a24c"
      },
      "outputs": [
        {
          "name": "stdout",
          "output_type": "stream",
          "text": [
            "Общая выручка компании в ноябре составила 25098\n"
          ]
        }
      ],
      "source": [
        "revenue = sum([prices[i] for i in range(len(dates)) if dt.datetime.strptime(dates[i],'%Y-%m-%d').month == 11])\n",
        "print(f'Общая выручка компании в ноябре составила {revenue}')"
      ]
    },
    {
      "cell_type": "markdown",
      "metadata": {
        "id": "bNdfRxH7ivfb"
      },
      "source": [
        "###4.2\n",
        "Найдите выручку компании в зависимости от месяца.\n",
        "Для этого напишите функцию, которая на вход принимает список с датами и список с выручкой, а на выходе словарь, где ключи - это месяцы, а значения - это выручка.\n",
        "Используйте аннотирование типов."
      ]
    },
    {
      "cell_type": "code",
      "execution_count": 7,
      "metadata": {
        "colab": {
          "base_uri": "https://localhost:8080/"
        },
        "id": "BBkmDNrKi0Ms",
        "outputId": "ea41754b-b393-449c-88f7-4a20eb5787be"
      },
      "outputs": [
        {
          "data": {
            "text/plain": [
              "{'09': 25647, '12': 45452, '10': 28645, '11': 25098}"
            ]
          },
          "execution_count": 7,
          "metadata": {},
          "output_type": "execute_result"
        }
      ],
      "source": [
        "def revenue_month(dates: list[str], prices: list[int]):\n",
        "    revenue = {} \n",
        "    for date, price in zip(dates, prices): \n",
        "        month = date.split('-')[1]\n",
        "        revenue[month] = revenue.get(month, 0) + price \n",
        "    return revenue\n",
        "revenue_month(dates, prices)"
      ]
    }
  ],
  "metadata": {
    "colab": {
      "provenance": []
    },
    "kernelspec": {
      "display_name": "Python 3.8.10 32-bit",
      "language": "python",
      "name": "python3"
    },
    "language_info": {
      "name": "python",
      "version": "3.8.10"
    },
    "vscode": {
      "interpreter": {
        "hash": "5b401188b83eff835fbaf534d1d16326f772993f22d532057a44160bb42002d7"
      }
    }
  },
  "nbformat": 4,
  "nbformat_minor": 0
}
